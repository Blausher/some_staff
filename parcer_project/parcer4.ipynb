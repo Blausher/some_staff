{
 "cells": [
  {
   "cell_type": "code",
   "execution_count": 4,
   "metadata": {},
   "outputs": [
    {
     "name": "stdout",
     "output_type": "stream",
     "text": [
      "The autoreload extension is already loaded. To reload it, use:\n",
      "  %reload_ext autoreload\n"
     ]
    }
   ],
   "source": [
    "%load_ext autoreload\n",
    "%autoreload 2"
   ]
  },
  {
   "cell_type": "code",
   "execution_count": 5,
   "metadata": {},
   "outputs": [],
   "source": [
    "#импорты для парсера\n",
    "from scripts.ymarket_parcer_class_v2 import Parser\n",
    "from scripts.all_urls import urls_list"
   ]
  },
  {
   "cell_type": "code",
   "execution_count": 6,
   "metadata": {},
   "outputs": [],
   "source": [
    "y = Parser(urls_list)"
   ]
  },
  {
   "cell_type": "code",
   "execution_count": 8,
   "metadata": {},
   "outputs": [
    {
     "name": "stdout",
     "output_type": "stream",
     "text": [
      "start\n",
      "stage 1 completed\n",
      "progress: 0.07692307692307693\n",
      "progress: 0.15384615384615385\n",
      "progress: 0.23076923076923078\n",
      "progress: 0.3076923076923077\n",
      "progress: 0.38461538461538464\n",
      "progress: 0.46153846153846156\n",
      "progress: 0.5384615384615384\n",
      "progress: 0.6153846153846154\n",
      "progress: 0.6923076923076923\n",
      "progress: 0.7692307692307693\n",
      "progress: 0.8461538461538461\n",
      "progress: 0.9230769230769231\n",
      "progress: 1.0\n",
      "Данные скачаны для запроса: Ламинат 33 класс 10мм\n",
      "stage 2 completed\n",
      "stage 3 completed\n"
     ]
    }
   ],
   "source": [
    "y.parse_data()"
   ]
  },
  {
   "cell_type": "code",
   "execution_count": null,
   "metadata": {},
   "outputs": [],
   "source": []
  }
 ],
 "metadata": {
  "kernelspec": {
   "display_name": "base",
   "language": "python",
   "name": "python3"
  },
  "language_info": {
   "codemirror_mode": {
    "name": "ipython",
    "version": 3
   },
   "file_extension": ".py",
   "mimetype": "text/x-python",
   "name": "python",
   "nbconvert_exporter": "python",
   "pygments_lexer": "ipython3",
   "version": "3.11.5"
  }
 },
 "nbformat": 4,
 "nbformat_minor": 2
}
